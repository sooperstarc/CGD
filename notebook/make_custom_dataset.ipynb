{
 "cells": [
  {
   "cell_type": "code",
   "execution_count": 2,
   "metadata": {},
   "outputs": [
    {
     "name": "stdout",
     "output_type": "stream",
     "text": [
      "/home/yoo/works/CGD\n"
     ]
    }
   ],
   "source": [
    "%cd /home/yoo/works/CGD"
   ]
  },
  {
   "cell_type": "code",
   "execution_count": 3,
   "metadata": {},
   "outputs": [],
   "source": [
    "import os"
   ]
  },
  {
   "cell_type": "code",
   "execution_count": 10,
   "metadata": {},
   "outputs": [],
   "source": [
    "# dir_path = 'data/custom'\n",
    "# target_ext = '.jpg'\n",
    "\n",
    "# img_list = [os.path.join(dir_path, file) for file in os.listdir(dir_path) if file.endswith(target_ext)]\n",
    "\n",
    "# txt = open(\"{}/test.txt\".format(dir_path), 'w')\n",
    "# txt.write(\"image_id\\tclass_id\\tsuper_class_id\\tpath\")\n",
    "\n",
    "# for idx, img_path in enumerate(img_list):\n",
    "\n",
    "#     txt.write(\"\\n\")\n",
    "#     txt.write(f\" \\t{idx}\\t \\t{img_path}\")\n",
    "\n",
    "# txt.close()"
   ]
  },
  {
   "cell_type": "code",
   "execution_count": 27,
   "metadata": {},
   "outputs": [],
   "source": [
    "search_path = 'data/custom'\n",
    "target_ext = '.jpg'\n",
    "\n",
    "txt = open(\"{}/test.txt\".format(search_path), 'w')\n",
    "txt.write(\"image_id\\tclass_id\\tsuper_class_id\\tpath\")\n",
    "\n",
    "idx = 0\n",
    "\n",
    "for (path, dir, files) in os.walk(search_path):\n",
    "\n",
    "    for filename in files:\n",
    "        ext = os.path.splitext(filename)[-1]\n",
    "\n",
    "        if ext in ['.jpg', '.JPG']:\n",
    "            idx += 1\n",
    "            txt.write(\"\\n\")\n",
    "            txt.write(f\" \\t{idx}\\t \\t{os.path.join(path, filename)}\") \n",
    "\n",
    "txt.close()"
   ]
  }
 ],
 "metadata": {
  "kernelspec": {
   "display_name": ".venv",
   "language": "python",
   "name": "python3"
  },
  "language_info": {
   "codemirror_mode": {
    "name": "ipython",
    "version": 3
   },
   "file_extension": ".py",
   "mimetype": "text/x-python",
   "name": "python",
   "nbconvert_exporter": "python",
   "pygments_lexer": "ipython3",
   "version": "3.9.7"
  },
  "orig_nbformat": 4,
  "vscode": {
   "interpreter": {
    "hash": "a7477bf70cb5c199d9228b8f8826ede3070e8bc378a87008e1002dbc64f6a554"
   }
  }
 },
 "nbformat": 4,
 "nbformat_minor": 2
}
